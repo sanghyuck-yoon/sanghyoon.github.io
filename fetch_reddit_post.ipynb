{
 "cells": [
  {
   "cell_type": "code",
   "execution_count": 8,
   "metadata": {},
   "outputs": [
    {
     "name": "stdout",
     "output_type": "stream",
     "text": [
      "Results saved to Python_posts_and_comments.csv\n"
     ]
    }
   ],
   "source": [
    "import praw\n",
    "import csv\n",
    "\n",
    "def fetch_reddit_posts_and_comments(subreddit_name, keyword, limit=100):\n",
    "    # Reddit API credentials\n",
    "    client_id = 's2ToxPmaNXFAxK0Wn1IZVg'\n",
    "    client_secret = 'tEXj5L_Qnq-yUYkgnN7F9X0M8bSZ_w'\n",
    "    user_agent = 'ChangeMeClient/0.1 by sanghyoon'\n",
    "    \n",
    "    # Initialize the Reddit API client\n",
    "    reddit = praw.Reddit(client_id=client_id,\n",
    "                         client_secret=client_secret,\n",
    "                         user_agent=user_agent)\n",
    "    \n",
    "    # Access the subreddit\n",
    "    subreddit = reddit.subreddit(subreddit_name)\n",
    "    \n",
    "    # Search for posts\n",
    "    posts_data = []\n",
    "    for submission in subreddit.search(keyword, limit=limit):\n",
    "        # Check if the keyword is in the title or selftext\n",
    "        if keyword.lower() in submission.title.lower() or keyword.lower() in submission.selftext.lower():\n",
    "            post_info = {\n",
    "                \"Post Number\": submission.id,\n",
    "                \"Title\": submission.title,\n",
    "                \"Text\": submission.selftext,\n",
    "                \"Comments\": []  # Initialize an empty list for comments\n",
    "            }\n",
    "            \n",
    "            # Fetch comments for each submission\n",
    "            submission.comments.replace_more(limit=None)  # Expand \"load more comments\" links\n",
    "            for comment in submission.comments.list():\n",
    "                if keyword.lower() in comment.body.lower():\n",
    "                    post_info[\"Comments\"].append(comment.body)\n",
    "            \n",
    "            posts_data.append(post_info)\n",
    "    \n",
    "    # Save results to a CSV file\n",
    "    with open(f'{subreddit_name}_posts_and_comments.csv', 'w', newline='', encoding='utf-8') as csvfile:\n",
    "        fieldnames = [\"Post Number\", \"Title\", \"Text\", \"Comments\"]\n",
    "        writer = csv.DictWriter(csvfile, fieldnames=fieldnames)\n",
    "        \n",
    "        writer.writeheader()\n",
    "        for post in posts_data:\n",
    "            writer.writerow({\n",
    "                \"Post Number\": post[\"Post Number\"],\n",
    "                \"Title\": post[\"Title\"],\n",
    "                \"Text\": post[\"Text\"],\n",
    "                \"Comments\": ' | '.join(post[\"Comments\"])  # Join comments with a separator\n",
    "            })\n",
    "    \n",
    "    print(f\"Results saved to {subreddit_name}_posts_and_comments.csv\")\n",
    "\n",
    "# Example usage\n",
    "fetch_reddit_posts_and_comments('Python', 'pandas', limit=50)\n",
    "\n"
   ]
  },
  {
   "cell_type": "code",
   "execution_count": null,
   "metadata": {},
   "outputs": [],
   "source": []
  }
 ],
 "metadata": {
  "kernelspec": {
   "display_name": "venv",
   "language": "python",
   "name": "python3"
  },
  "language_info": {
   "codemirror_mode": {
    "name": "ipython",
    "version": 3
   },
   "file_extension": ".py",
   "mimetype": "text/x-python",
   "name": "python",
   "nbconvert_exporter": "python",
   "pygments_lexer": "ipython3",
   "version": "3.10.0rc2"
  }
 },
 "nbformat": 4,
 "nbformat_minor": 2
}
